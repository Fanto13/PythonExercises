{
 "cells": [
  {
   "cell_type": "code",
   "execution_count": 23,
   "metadata": {},
   "outputs": [
    {
     "name": "stdout",
     "output_type": "stream",
     "text": [
      "[ 5 10 15]\n",
      "[1, 2, 3, 1, 2, 3, 1, 2, 3, 1, 2, 3, 1, 2, 3]\n",
      "[ 4 10 18]\n",
      "[5 7 9]\n",
      "[  1  32 729]\n",
      "[2 5]\n",
      "[9 8 7 6 5 4 3 2 1 0]\n",
      "[ 0  1  2 99 99  5  6  7  8  9]\n",
      "[[6 7]\n",
      " [5 5]]\n",
      "[[6 7 3]\n",
      " [5 5 0]\n",
      " [3 2 1]]\n",
      "6\n",
      "7\n",
      "3\n",
      "5\n",
      "5\n",
      "0\n",
      "3\n",
      "2\n",
      "1\n",
      "6\n",
      "7\n",
      "3\n",
      "5\n",
      "5\n",
      "0\n",
      "3\n",
      "2\n",
      "1\n",
      "6\n",
      "7\n",
      "3\n",
      "5\n",
      "5\n",
      "0\n",
      "3\n",
      "2\n",
      "1\n",
      "(0, 0) 6\n",
      "(0, 1) 7\n",
      "(0, 2) 3\n",
      "(1, 0) 5\n",
      "(1, 1) 5\n",
      "(1, 2) 0\n",
      "(2, 0) 3\n",
      "(2, 1) 2\n",
      "(2, 2) 1\n",
      "[[0 0 0]\n",
      " [0 0 0]\n",
      " [0 0 0]]\n"
     ]
    }
   ],
   "source": [
    "import numpy as np\n",
    "a = np.array([1,2,3])\n",
    "b = [1,2,3]\n",
    "c = np.array([4,5,6])\n",
    "\n",
    "print(a*5)\n",
    "print(b*5)\n",
    "print(a*c)\n",
    "print(a+c)\n",
    "print(a**c)\n",
    "\n",
    "r = np.arange(10) #il metodo arrange crea un array di numeri da 0 a 9\n",
    "print(r[2:8:3]) #questo for crea un array con gli elementi da 2 a 8 con step 3 e stampa l'array\n",
    "print(r[::-1]) #questo for crea un array con gli elementi da 0 a 9 con step -1 e stampa l'array\n",
    "\n",
    "r[3:5]=99 #r[3:5] è un array con gli elementi da 3 a 5, e gli assegno il valore 99\n",
    "print(r)\n",
    "\n",
    "I = np.array([[1,2,3], [0,0,0] ,[3,2,1]]) #np.array crea una matrice, in questo caso 3x3 con i valori indicati tra parentesi quadre \n",
    "I[0:2, 0:2] +=5\n",
    "print(I[0:2, 0:2])\n",
    "print(I)\n",
    "\n",
    "for row in I: \n",
    "    for col in row:\n",
    "        print(col)#stampa tutti gli elementi della matrice\n",
    "        \n",
    "for x in np.nditer(I): #nditer è un iteratore che permette di scorrere tutti gli elementi di una matrice\n",
    "    print(x)\n",
    "    \n",
    "for x in I.flatten(): #flatten è un metodo che permette di scorrere tutti gli elementi di una matrice\n",
    "    print(x)\n",
    "    \n",
    "for pos,x in np.ndenumerate(I): #ndenumerate è un iteratore che permette di scorrere tutti gli elementi di una matrice, ma restituisce anche la posizione\n",
    "    print(pos,x)#qui si può accedere all'indice e al valore dell'elemento corrente\n",
    "    i, j = pos #l'indice è una tupla, perchè la matrice è bidimensionale\n",
    "    x = 0\n",
    "    I[i,j]= 0 #azzera tutti gli elementi della matrice\n",
    "    \n",
    "print(I.T)\n",
    "    \n",
    "#ora dobbiamo scrivere un algoritmo che calcoli la trasposta di una matrice\n",
    "\n",
    "\n",
    "\n",
    "\n"
   ]
  },
  {
   "cell_type": "code",
   "execution_count": 24,
   "metadata": {},
   "outputs": [
    {
     "name": "stdout",
     "output_type": "stream",
     "text": [
      "[[5 5 0]\n",
      " [5 5 0]\n",
      " [0 0 0]]\n",
      "la sua trasposta è:\n",
      " [[5 5 0]\n",
      " [5 5 0]\n",
      " [0 0 0]]\n"
     ]
    }
   ],
   "source": [
    "I[0:2, 0:2] +=5\n",
    "print(I)\n",
    "\n",
    "F = I.copy() #copy è un metodo che permette di copiare una matrice byte per byte\n",
    "\n",
    "for pos, x in np.ndenumerate(I):\n",
    "    i, j = pos\n",
    "    F[j,i] = x #x==I[i,j]\n",
    "    \n",
    "print(\"la sua trasposta è:\\n\", F)\n",
    "\n"
   ]
  },
  {
   "cell_type": "code",
   "execution_count": 29,
   "metadata": {},
   "outputs": [
    {
     "name": "stdout",
     "output_type": "stream",
     "text": [
      "Collecting opencv-python\n",
      "  Using cached opencv_python-4.7.0.72-cp37-abi3-win_amd64.whl (38.2 MB)\n",
      "Requirement already satisfied: numpy>=1.21.2 in c:\\users\\17346_21\\documents\\python\\flask1\\venv\\lib\\site-packages (from opencv-python) (1.24.3)\n",
      "Installing collected packages: opencv-python\n",
      "Successfully installed opencv-python-4.7.0.72\n",
      "Note: you may need to restart the kernel to use updated packages.\n"
     ]
    },
    {
     "name": "stderr",
     "output_type": "stream",
     "text": [
      "\n",
      "[notice] A new release of pip available: 22.3.1 -> 23.1.2\n",
      "[notice] To update, run: python.exe -m pip install --upgrade pip\n"
     ]
    }
   ],
   "source": [
    "%pip install opencv-python"
   ]
  },
  {
   "cell_type": "code",
   "execution_count": 12,
   "metadata": {},
   "outputs": [
    {
     "ename": "AttributeError",
     "evalue": "'NoneType' object has no attribute 'shape'",
     "output_type": "error",
     "traceback": [
      "\u001b[1;31m---------------------------------------------------------------------------\u001b[0m",
      "\u001b[1;31mAttributeError\u001b[0m                            Traceback (most recent call last)",
      "Cell \u001b[1;32mIn[12], line 18\u001b[0m\n\u001b[0;32m     14\u001b[0m cv2\u001b[39m.\u001b[39mwaitKey(\u001b[39m0\u001b[39m) \u001b[39m#mostra la matrice I finchè non viene premuto un tasto\u001b[39;00m\n\u001b[0;32m     17\u001b[0m I \u001b[39m=\u001b[39m cv2\u001b[39m.\u001b[39mimread(\u001b[39m\"\u001b[39m\u001b[39mcliffs-of-moher_2.avif\u001b[39m\u001b[39m\"\u001b[39m)\n\u001b[1;32m---> 18\u001b[0m \u001b[39mprint\u001b[39m(I\u001b[39m.\u001b[39;49mshape)\n\u001b[0;32m     20\u001b[0m I[:,:,\u001b[39m1\u001b[39m] \u001b[39m=\u001b[39m \u001b[39m0\u001b[39m\n\u001b[0;32m     21\u001b[0m cv2\u001b[39m.\u001b[39mimshow(\u001b[39m\"\u001b[39m\u001b[39mI\u001b[39m\u001b[39m\"\u001b[39m, I)\n",
      "\u001b[1;31mAttributeError\u001b[0m: 'NoneType' object has no attribute 'shape'"
     ]
    }
   ],
   "source": [
    "import numpy as np\n",
    "I = np.arange(40000) #crea un array di numeri da 0 a 39999\n",
    "I = I.reshape((200,200)) #reshape è un metodo che permette di cambiare le dimensioni di una matrice, in questo caso la matrice I viene trasformata in una matrice 200x200\n",
    "\n",
    "I = np.zeros_like(I).astype(np.uint8) #crea una matrice di zeri con le stesse dimensioni di I, e la converte in unsigned int 8 bit\n",
    "I[50:100, 50:100] += 100 #la matrice I è una matrice di zeri, quindi qui sto aggiungendo 100 a tutti gli elementi della matrice che hanno coordinate tra 50 e 100\n",
    "I[:, 70:80] += 100 #aggiunge 100 a tutti gli elementi della matrice che hanno coordinate tra 70 e 80\n",
    "I[:, 70:80] += 100\n",
    "I[:100:5] += 100\n",
    "\n",
    "import cv2\n",
    "\n",
    "cv2.imshow(\"I\", I) #mostra la matrice I\n",
    "cv2.waitKey(0) #mostra la matrice I finchè non viene premuto un tasto\n",
    "\n",
    "\n"
   ]
  },
  {
   "cell_type": "code",
   "execution_count": 22,
   "metadata": {},
   "outputs": [
    {
     "name": "stdout",
     "output_type": "stream",
     "text": [
      "(1038, 800, 3)\n"
     ]
    },
    {
     "data": {
      "text/plain": [
       "-1"
      ]
     },
     "execution_count": 22,
     "metadata": {},
     "output_type": "execute_result"
    }
   ],
   "source": [
    "import cv2\n",
    "\n",
    "I = cv2.imread(\"Coat_of_arms_of_Ireland.svg.png\")\n",
    "print(I.shape)\n",
    "\n",
    "I[:200,:,[0,2]] = 0\n",
    "I[300:400, 300:400, 0] = 0\n",
    "I[300:400, 300:400, 1] = 0\n",
    "I[300:400, 300:400, 2] = 255\n",
    "\n",
    "I[550:, 600:] = [50,0,150]\n",
    "I[:,:,2] += 30\n",
    "\n",
    "I//=2\n",
    "I+=128\n",
    "\n",
    "I[I > 255] = 255\n",
    "\n",
    "cv2.imshow(\"I\", I)\n",
    "cv2.waitKey(0)"
   ]
  }
 ],
 "metadata": {
  "kernelspec": {
   "display_name": "venv",
   "language": "python",
   "name": "python3"
  },
  "language_info": {
   "codemirror_mode": {
    "name": "ipython",
    "version": 3
   },
   "file_extension": ".py",
   "mimetype": "text/x-python",
   "name": "python",
   "nbconvert_exporter": "python",
   "pygments_lexer": "ipython3",
   "version": "3.11.2"
  },
  "orig_nbformat": 4
 },
 "nbformat": 4,
 "nbformat_minor": 2
}
